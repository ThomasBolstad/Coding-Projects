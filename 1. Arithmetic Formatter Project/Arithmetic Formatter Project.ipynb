{
 "cells": [
  {
   "cell_type": "code",
   "execution_count": 6,
   "id": "70948d4d",
   "metadata": {},
   "outputs": [
    {
     "name": "stdout",
     "output_type": "stream",
     "text": [
      "   32         1      45      123      988\n",
      "- 698    - 3801    + 43    +  49    +  40\n",
      "-----    ------    ----    -----    -----\n",
      " -666     -3800      88      172     1028\n"
     ]
    }
   ],
   "source": [
    "def arithmetic_arranger(problems, show_answers=False):\n",
    "    top_list = []\n",
    "    bottom_list = []\n",
    "    dashes_list = []\n",
    "    answer_list = []\n",
    "    if len(problems) > 5:\n",
    "        return 'Error: Too many problems.'\n",
    "    for entry in problems:           \n",
    "        parts = entry.split()\n",
    "        max_width = max(len(parts[0]), len(parts[2])) + 2\n",
    "        if parts[0].isdigit() == False or parts[2].isdigit() == False:\n",
    "            return 'Error: Numbers must only contain digits.'\n",
    "        if len(parts[0]) > 4 or len(parts[2]) >4:\n",
    "            return 'Error: Numbers cannot be more than four digits.'\n",
    "        num1 = int(parts[0])\n",
    "        operator = parts[1]\n",
    "        num2 = int(parts[2])\n",
    "       \n",
    "        if operator != \"+\" and operator != \"-\" :\n",
    "            return \"Error: Operator must be '+' or '-'.\"\n",
    "        if str(num1).isdigit() == False or str(num2).isdigit() == False:\n",
    "            return 'Error: Numbers must only contain digits.'\n",
    "        if operator == '+':\n",
    "            result = str(num1+num2)\n",
    "        else:\n",
    "            result = str(num1-num2)    \n",
    "        num_1 = str(num1)\n",
    "        num_2 = str(num2)\n",
    "       \n",
    "        num_1 = num_1.rjust(max_width)\n",
    "        num_2 = num_2.rjust(max_width - 2)  # -2 for operator and space\n",
    "        dashes = max_width * '-'\n",
    "        top = num_1\n",
    "        bottom = f'{operator} {num_2}'\n",
    "        top_list.append(top)\n",
    "        bottom_list.append(bottom)\n",
    "        dashes_list.append(dashes)\n",
    "        result = result.rjust(max_width)\n",
    "        answer_list.append(result)\n",
    "    top_list = '    '.join(top_list)\n",
    "    bottom_list = '    '.join(bottom_list)\n",
    "    dashes_list = '    '.join(dashes_list)\n",
    "    answer_list = '    '.join(answer_list)\n",
    "    if show_answers == False:\n",
    "        answer_list = ''\n",
    "    \n",
    "    problems = f'{top_list}\\n{bottom_list}\\n{dashes_list}'\n",
    "    if show_answers:\n",
    "        problems += f'\\n{answer_list}'\n",
    "    return problems\n",
    "    \n",
    "print(arithmetic_arranger([\"32 - 698\", \"1 - 3801\", \"45 + 43\", \"123 + 49\", \"988 + 40\"], True))"
   ]
  }
 ],
 "metadata": {
  "kernelspec": {
   "display_name": "Python 3",
   "language": "python",
   "name": "python3"
  },
  "language_info": {
   "codemirror_mode": {
    "name": "ipython",
    "version": 3
   },
   "file_extension": ".py",
   "mimetype": "text/x-python",
   "name": "python",
   "nbconvert_exporter": "python",
   "pygments_lexer": "ipython3",
   "version": "3.11.1"
  }
 },
 "nbformat": 4,
 "nbformat_minor": 5
}
